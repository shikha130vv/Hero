{
  "nbformat": 4,
  "nbformat_minor": 0,
  "metadata": {
    "colab": {
      "name": "gVisor.ipynb",
      "version": "0.3.2",
      "provenance": [],
      "collapsed_sections": [],
      "include_colab_link": true
    },
    "kernelspec": {
      "name": "python3",
      "display_name": "Python 3"
    }
  },
  "cells": [
    {
      "cell_type": "markdown",
      "metadata": {
        "id": "view-in-github",
        "colab_type": "text"
      },
      "source": [
        "<a href=\"https://colab.research.google.com/github/shikha130vv/Hero/blob/master/gVisor.ipynb\" target=\"_parent\"><img src=\"https://colab.research.google.com/assets/colab-badge.svg\" alt=\"Open In Colab\"/></a>"
      ]
    },
    {
      "cell_type": "code",
      "metadata": {
        "id": "WSB4V4y-iZGN",
        "colab_type": "code",
        "colab": {}
      },
      "source": [
        ""
      ],
      "execution_count": 0,
      "outputs": []
    },
    {
      "cell_type": "markdown",
      "metadata": {
        "id": "EA8piMB4i8Y6",
        "colab_type": "text"
      },
      "source": [
        "# gVisor\n",
        "[Sandboxing](https://www.techopedia.com/definition/25266/sandboxing)\n",
        "[gVisor](https://gvisor.dev/)\n",
        "[OCI Specification](https://www.opencontainers.org/)\n",
        "[High Density Computing](https://www.datacenterknowledge.com/archives/2016/11/02/high-density-compute-keeping)\n",
        "*   Security solution for high density applications\n",
        "*   High density applications use virtualization to deploy multiple applications on one server to increase processor usage and reduce idle time\n",
        "*   lightweight solution. Runs as a normal process. Uses host kernel for memory management and scheduling\n",
        "*   Open source\n",
        "*   Provides security in depth by running containers with a new user space kernel thereby providing protection from host kernel vulnerabilities\n",
        "*   gVisor is OCI Compatible sandbox runtime\n",
        "*   OCI defines two specifications, one the Runtime Specification and the other the Image Specification. Runtime Specification defines how a bundle after getting downloaded and unpacked will be run by OCI Runtime\n",
        "*   Low overhead solution, requires no additional conguration. Most applications can run as it is.\n",
        "\n"
      ]
    },
    {
      "cell_type": "markdown",
      "metadata": {
        "id": "byIpkNLIuCQK",
        "colab_type": "text"
      },
      "source": [
        "# gVisor Architecture\n",
        "\n",
        "\n",
        "*   Written in go\n",
        "*   Implements substantial portion of Linux system call interface\n",
        "*   Includes an OCI compatible called runsc which integrates with both Docker and Kubernetes\n",
        "\n",
        "![alt text](https://)"
      ]
    },
    {
      "cell_type": "markdown",
      "metadata": {
        "id": "pNONoZMhi2Fn",
        "colab_type": "text"
      },
      "source": [
        "# Containerization"
      ]
    },
    {
      "cell_type": "markdown",
      "metadata": {
        "id": "SmcGN38XigxA",
        "colab_type": "text"
      },
      "source": [
        "# Docker"
      ]
    },
    {
      "cell_type": "code",
      "metadata": {
        "id": "qxwPzRuiilsM",
        "colab_type": "code",
        "colab": {}
      },
      "source": [
        ""
      ],
      "execution_count": 0,
      "outputs": []
    },
    {
      "cell_type": "markdown",
      "metadata": {
        "id": "HOcwf9Y3imPh",
        "colab_type": "text"
      },
      "source": [
        "# Kubernetes"
      ]
    },
    {
      "cell_type": "code",
      "metadata": {
        "id": "on1szubWisJg",
        "colab_type": "code",
        "colab": {}
      },
      "source": [
        ""
      ],
      "execution_count": 0,
      "outputs": []
    },
    {
      "cell_type": "markdown",
      "metadata": {
        "id": "VfBoKj7NisrO",
        "colab_type": "text"
      },
      "source": [
        "# Google Kubernetes Engine"
      ]
    },
    {
      "cell_type": "markdown",
      "metadata": {
        "id": "XQ8t7R3ziwHJ",
        "colab_type": "text"
      },
      "source": [
        ""
      ]
    }
  ]
}